{
 "cells": [
  {
   "cell_type": "code",
   "execution_count": 5,
   "id": "f72bdb0e",
   "metadata": {},
   "outputs": [
    {
     "name": "stdout",
     "output_type": "stream",
     "text": [
      "Enter a sentence:  his is the sample example taken to evaluate the n-gram smoothening technique\n",
      "Enter the value of N for N-grams: 10\n",
      "Next words: </s> </s> </s>\n"
     ]
    },
    {
     "name": "stderr",
     "output_type": "stream",
     "text": [
      "[nltk_data] Downloading package punkt_tab to\n",
      "[nltk_data]     C:\\Users\\manik\\AppData\\Roaming\\nltk_data...\n",
      "[nltk_data]   Package punkt_tab is already up-to-date!\n"
     ]
    }
   ],
   "source": [
    "from nltk.util import ngrams\n",
    "from nltk.lm import Laplace\n",
    "from nltk.tokenize import word_tokenize\n",
    "from nltk.lm.preprocessing import padded_everygram_pipeline\n",
    "import nltk\n",
    "\n",
    "nltk.download('punkt_tab')\n",
    "\n",
    "def ngram_smoothing(sentence, n):\n",
    "  tokens = word_tokenize(sentence.lower())\n",
    "  train_data, padded_sents = padded_everygram_pipeline(n, tokens)\n",
    "  model = Laplace(n)\n",
    "  model.fit(train_data, padded_sents)\n",
    "  return model\n",
    "\n",
    "sentence = \"his is the sample example taken to evaluate the n-gram smoothening technique\"\n",
    "print(\"Enter a sentence: \",sentence)\n",
    "n = 10\n",
    "print(\"Enter the value of N for N-grams:\",n)\n",
    "model = ngram_smoothing(sentence, n)\n",
    "context = tuple(sentence.lower().split()[-n+1:])\n",
    "next_words = model.generate(3, text_seed=context)\n",
    "print(\"Next words:\", ' '.join(next_words))"
   ]
  },
  {
   "cell_type": "code",
   "execution_count": null,
   "id": "812863e0",
   "metadata": {},
   "outputs": [],
   "source": []
  }
 ],
 "metadata": {
  "kernelspec": {
   "display_name": "base",
   "language": "python",
   "name": "python3"
  },
  "language_info": {
   "codemirror_mode": {
    "name": "ipython",
    "version": 3
   },
   "file_extension": ".py",
   "mimetype": "text/x-python",
   "name": "python",
   "nbconvert_exporter": "python",
   "pygments_lexer": "ipython3",
   "version": "3.12.7"
  }
 },
 "nbformat": 4,
 "nbformat_minor": 5
}
