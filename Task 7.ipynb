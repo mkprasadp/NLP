{
 "cells": [
  {
   "cell_type": "code",
   "execution_count": null,
   "id": "e9890ca6",
   "metadata": {},
   "outputs": [],
   "source": [
    "import nltk\n",
    "nltk.download(\"all\");\n",
    "from nltk.tag import HiddenMarkovModelTagger\n",
    "from nltk.corpus import treebank\n",
    "nltk.download('treebank')\n",
    "corpus = treebank.tagged_sents()\n",
    "train_data = corpus[:3000]\n",
    "test_data = corpus[3000:]\n",
    "hmm_tagger = HiddenMarkovModelTagger.train(train_data)\n",
    "sentance = \"I Love NLP\"\n",
    "tokens = nltk.word_tokenize(sentance)\n",
    "tagged_sentance = hmm_tagger.tag(tokens)\n",
    "print(tagged_sentance)"
   ]
  }
 ],
 "metadata": {
  "kernelspec": {
   "display_name": "Python 3",
   "language": "python",
   "name": "python3"
  },
  "language_info": {
   "codemirror_mode": {
    "name": "ipython",
    "version": 3
   },
   "file_extension": ".py",
   "mimetype": "text/x-python",
   "name": "python",
   "nbconvert_exporter": "python",
   "pygments_lexer": "ipython3",
   "version": "3.13.2"
  }
 },
 "nbformat": 4,
 "nbformat_minor": 5
}
